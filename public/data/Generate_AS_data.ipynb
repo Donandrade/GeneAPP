{
  "cells": [
    {
      "cell_type": "markdown",
      "metadata": {
        "colab_type": "text",
        "id": "view-in-github"
      },
      "source": [
        "<a href=\"https://colab.research.google.com/github/MiqueiasFernandes/GeneAPP/blob/main/public/data/Generate_AS_data.ipynb\" target=\"_parent\"><img src=\"https://colab.research.google.com/assets/colab-badge.svg\" alt=\"Open In Colab\"/></a>"
      ]
    },
    {
      "cell_type": "code",
      "execution_count": null,
      "metadata": {
        "id": "8ldmPbSE7FDl"
      },
      "outputs": [],
      "source": [
        "## This notebook will generate all data need to run teste analise on GeneAPP\n",
        "## To run this notebook is recommended first to conect you Google Drive \n",
        "## So if you notebook stop you can continue where stoped\n",
        "## change all below `/content/drive/MyDrive/Doutorado/geneapp` => your custom Google Drive path\n",
        "## this not is an experiment! this is a random test data.\n",
        "## lets try! click in play button to generate all data, then explore it on GeneAPP!"
      ]
    },
    {
      "cell_type": "code",
      "execution_count": null,
      "metadata": {
        "id": "R7Q4P7oos0EW"
      },
      "outputs": [],
      "source": [
        "!  curl -s https://raw.githubusercontent.com/MiqueiasFernandes/GeneAPP/main/public/data/as_data_gen.sh | \\\n",
        "    bash -s - \\\n",
        "   'https://ftp.ncbi.nlm.nih.gov/genomes/all/GCF/000/001/735/GCF_000001735.4_TAIR10.1/GCF_000001735.4_TAIR10.1_genomic.fna.gz' \\\n",
        "   'https://ftp.ncbi.nlm.nih.gov/genomes/all/GCF/000/001/735/GCF_000001735.4_TAIR10.1/GCF_000001735.4_TAIR10.1_genomic.gtf.gz' \\\n",
        "   'https://ftp.ncbi.nlm.nih.gov/genomes/all/GCF/000/001/735/GCF_000001735.4_TAIR10.1/GCF_000001735.4_TAIR10.1_cds_from_genomic.fna.gz' \\\n",
        "   '/content/drive/MyDrive/Doutorado/geneapp/data/' \\\n",
        "   SRA_ARG1='--minReadLen' SRA_ARG2='150' SRA_ARG3='-X' SRA_ARG4='999999' \\\n",
        "   SRR21411875,CR1,WILD SRR21411876,CR2,WILD SRR21411877,CR3,WILD \\\n",
        "   SRR21411881,MT1,MUTANT SRR21411882,MT2,MUTANT SRR21411883,MT3,MUTANT \\\n",
        "   RMATS_ARG1='--readLength' RMATS_ARG2='150' GEN_NCBI_TABLE KEEP_TMP \\\n",
        "   1> /content/drive/MyDrive/Doutorado/geneapp/log.txt \\\n",
        "   2> /content/drive/MyDrive/Doutorado/geneapp/err.txt\n"
      ]
    },
    {
      "cell_type": "code",
      "execution_count": null,
      "metadata": {
        "id": "ZkOATkZi9OA9"
      },
      "outputs": [],
      "source": []
    }
  ],
  "metadata": {
    "colab": {
      "authorship_tag": "ABX9TyNY59Gyd+f4pT3P1O8pNrky",
      "collapsed_sections": [],
      "include_colab_link": true,
      "mount_file_id": "1g9AS9q0enDfVypFPv5frKgYzsmYaJIOM",
      "provenance": []
    },
    "kernelspec": {
      "display_name": "Python 3",
      "name": "python3"
    },
    "language_info": {
      "name": "python"
    }
  },
  "nbformat": 4,
  "nbformat_minor": 0
}
